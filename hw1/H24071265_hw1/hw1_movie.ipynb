{
 "cells": [
  {
   "cell_type": "code",
   "execution_count": 17,
   "metadata": {},
   "outputs": [
    {
     "data": {
      "text/html": [
       "<div>\n",
       "<style scoped>\n",
       "    .dataframe tbody tr th:only-of-type {\n",
       "        vertical-align: middle;\n",
       "    }\n",
       "\n",
       "    .dataframe tbody tr th {\n",
       "        vertical-align: top;\n",
       "    }\n",
       "\n",
       "    .dataframe thead th {\n",
       "        text-align: right;\n",
       "    }\n",
       "</style>\n",
       "<table border=\"1\" class=\"dataframe\">\n",
       "  <thead>\n",
       "    <tr style=\"text-align: right;\">\n",
       "      <th></th>\n",
       "      <th>Rank</th>\n",
       "      <th>Title</th>\n",
       "      <th>Genre</th>\n",
       "      <th>Director</th>\n",
       "      <th>Actors</th>\n",
       "      <th>Year</th>\n",
       "      <th>Runtime (Minutes)</th>\n",
       "      <th>Rating</th>\n",
       "      <th>Votes</th>\n",
       "      <th>Revenue (Millions)</th>\n",
       "      <th>Metascore</th>\n",
       "    </tr>\n",
       "  </thead>\n",
       "  <tbody>\n",
       "    <tr>\n",
       "      <th>0</th>\n",
       "      <td>55</td>\n",
       "      <td>The Dark Knight</td>\n",
       "      <td>Action|Crime|Drama</td>\n",
       "      <td>Christopher Nolan</td>\n",
       "      <td>Christian Bale| Heath Ledger| Aaron Eckhart|Mi...</td>\n",
       "      <td>2008</td>\n",
       "      <td>152</td>\n",
       "      <td>9.0</td>\n",
       "      <td>1791916</td>\n",
       "      <td>533.32</td>\n",
       "      <td>82.0</td>\n",
       "    </tr>\n",
       "    <tr>\n",
       "      <th>1</th>\n",
       "      <td>81</td>\n",
       "      <td>Inception</td>\n",
       "      <td>Action|Adventure|Sci-Fi</td>\n",
       "      <td>Christopher Nolan</td>\n",
       "      <td>Leonardo DiCaprio| Joseph Gordon-Levitt| Ellen...</td>\n",
       "      <td>2010</td>\n",
       "      <td>148</td>\n",
       "      <td>8.8</td>\n",
       "      <td>1583625</td>\n",
       "      <td>292.57</td>\n",
       "      <td>74.0</td>\n",
       "    </tr>\n",
       "  </tbody>\n",
       "</table>\n",
       "</div>"
      ],
      "text/plain": [
       "   Rank            Title                    Genre           Director  \\\n",
       "0    55  The Dark Knight       Action|Crime|Drama  Christopher Nolan   \n",
       "1    81        Inception  Action|Adventure|Sci-Fi  Christopher Nolan   \n",
       "\n",
       "                                              Actors  Year  Runtime (Minutes)  \\\n",
       "0  Christian Bale| Heath Ledger| Aaron Eckhart|Mi...  2008                152   \n",
       "1  Leonardo DiCaprio| Joseph Gordon-Levitt| Ellen...  2010                148   \n",
       "\n",
       "   Rating    Votes  Revenue (Millions)  Metascore  \n",
       "0     9.0  1791916              533.32       82.0  \n",
       "1     8.8  1583625              292.57       74.0  "
      ]
     },
     "execution_count": 17,
     "metadata": {},
     "output_type": "execute_result"
    }
   ],
   "source": [
    "# P1\n",
    "import pandas as pd\n",
    "import numpy as np\n",
    "data_name = 'IMDB-Movie-Data.csv'\n",
    "data = pd.read_csv(data_name)\n",
    "data.head(2)"
   ]
  },
  {
   "cell_type": "code",
   "execution_count": 18,
   "metadata": {},
   "outputs": [
    {
     "data": {
      "text/plain": [
       "2             Dangal\n",
       "4      Kimi no na wa\n",
       "15    Koe no katachi\n",
       "Name: Title, dtype: object"
      ]
     },
     "execution_count": 18,
     "metadata": {},
     "output_type": "execute_result"
    }
   ],
   "source": [
    "#(1)\n",
    "ans = data[data.Year == 2016].sort_values(by = 'Rating')[::-1][:3].Title\n",
    "ans"
   ]
  },
  {
   "cell_type": "code",
   "execution_count": 73,
   "metadata": {},
   "outputs": [
    {
     "name": "stdout",
     "output_type": "stream",
     "text": [
      "[' John Boyega', 'Daisy Ridley']\n"
     ]
    }
   ],
   "source": [
    "#(2)\n",
    "average_revenue = {}\n",
    "#建立key為演員名稱，value為演員平均revenue的dictionary\n",
    "for i in range(data.shape[0]):\n",
    "    for actor in data['Actors'][i].split('|'):\n",
    "        if actor in average_revenue:\n",
    "        #若演員已經在dictionary內了則跳過\n",
    "            continue\n",
    "        else:\n",
    "            mean = data[data.Actors.str.contains(actor)]['Revenue (Millions)'].mean(skipna = True)\n",
    "            #將所有Actors欄位內有包含此actor的列的Revenue做平均\n",
    "            average_revenue[actor] = mean\n",
    "all = pd.Series(average_revenue).dropna().sort_values()[::-1]\n",
    "highest = all[0]\n",
    "print(list(all[all==highest].index))\n"
   ]
  },
  {
   "cell_type": "code",
   "execution_count": 20,
   "metadata": {},
   "outputs": [
    {
     "data": {
      "text/plain": [
       "7.175"
      ]
     },
     "execution_count": 20,
     "metadata": {},
     "output_type": "execute_result"
    }
   ],
   "source": [
    "#(3)\n",
    "data[data.Actors.str.contains('Emma Watson')].Rating.mean()\n",
    "#將所有Actors欄含有Emma Watson的列的Rating做平均"
   ]
  },
  {
   "cell_type": "code",
   "execution_count": 46,
   "metadata": {},
   "outputs": [
    {
     "name": "stdout",
     "output_type": "stream",
     "text": [
      "The 1st : ['Ridley Scott']\n",
      "The 2st : ['M. Night Shyamalan']\n",
      "The 3st : ['Paul W.S. Anderson']\n"
     ]
    }
   ],
   "source": [
    "#(4)\n",
    "collab = {}\n",
    "#建立key為director，value為合作過的演員數量的dictionary\n",
    "for director in data['Director']:\n",
    "    if director in collab:\n",
    "    #如果director已經在dictionary內則跳過\n",
    "        continue\n",
    "    else:\n",
    "        collab_list = []\n",
    "        #所有跟此director合作過的演員名單\n",
    "        for actors in data[data.Director==director]['Actors']:\n",
    "            #將所有在包含此director的列的actor加入上面的collab_list\n",
    "            for actor in actors.split('|'):\n",
    "                collab_list.append(actor)\n",
    "    collab[director] = len(set(collab_list))\n",
    "    #用set計算其不重複的長度後做為dictionary的value\n",
    "ans  = pd.Series(collab).sort_values()\n",
    "for i , n in enumerate(list(set(ans))[::-1][:3]):\n",
    "    print('The',str(i+1)+'st',':',list(ans[ans == n].index))"
   ]
  },
  {
   "cell_type": "code",
   "execution_count": 48,
   "metadata": {},
   "outputs": [
    {
     "name": "stdout",
     "output_type": "stream",
     "text": [
      "The 1st: ['Brad Pitt']\n",
      "The 2st: ['Scarlett Johansson', 'Chloe Grace Moretz', 'Hugh Jackman', 'Amy Adams', 'Johnny Depp']\n",
      "The 3st: ['Jesse Eisenberg', ' Hugh Jackman', 'Charlize Theron', 'Liam Neeson', 'Jake Gyllenhaal', 'Rachel Weisz', 'Mark Wahlberg']\n"
     ]
    }
   ],
   "source": [
    "#(5)\n",
    "genre_count = {}\n",
    "#建立key為actor，genre數量為value的dictionary\n",
    "for actors in data.Actors:\n",
    "    for actor in actors.split('|'):\n",
    "        if actor in genre_count:\n",
    "            #若actor已經在dictionary裡面則跳過\n",
    "            continue\n",
    "        else:\n",
    "            genres_actor = []\n",
    "            #此actor演過的所有genre\n",
    "            for genres in data[data.Actors.str.contains(actor)]['Genre']:\n",
    "                #將所有Actors欄包含有此actor的列的Genre加入上面的genres_actor\n",
    "                for genre in genres.split('|'):\n",
    "                    genres_actor.append(genre)\n",
    "        genre_count[actor] = len(set(genres_actor))\n",
    "        #用set計算其不重複的長度作為dictionary的value\n",
    "ans = pd.Series(genre_count).sort_values()\n",
    "for i,n in enumerate(list(set(ans))[::-1][:3]):\n",
    "    print('The',str(i+1)+'st:',list(list(ans[ans == n].index)))    "
   ]
  },
  {
   "cell_type": "code",
   "execution_count": 52,
   "metadata": {},
   "outputs": [
    {
     "name": "stdout",
     "output_type": "stream",
     "text": [
      "The 1st: ['Tom Hanks', 'Chiwetel Ejiofor', 'Rachel Weisz', ' Bryce Dallas Howard', 'Kate Bosworth', 'Jessica Biel', ' Audrey Tautou', 'Sacha Baron Cohen', 'Jennifer Aniston', 'Bryce Dallas Howard', 'Brad Pitt', ' Justin Theroux', 'Kirsten Dunst', ' Hugh Jackman', ' Scarlett Johansson', ' Maya Rudolph', 'Kang-ho Song', 'Eva Green', 'Meryl Streep', 'Luke Wilson', 'Anne Hathaway', 'Dominic West', 'Hugh Jackman', 'Matt Damon', ' Jeremy Irons', 'Kevin Spacey', 'Morgan Freeman', 'Owen Wilson', 'Scarlett Johansson', 'Gerard Butler', ' Morgan Freeman', ' Ben Kingsley', ' Jennifer Connelly', 'Abbie Cornish', ' Emily Blunt', 'Mark Wahlberg', ' Toni Collette', 'Steve Carell', ' Chiwetel Ejiofor', 'Denzel Washington', 'Edward Norton', 'Tom Cruise', ' Marion Cotillard', 'Will Smith', 'Emily Blunt', ' Bob Balaban', 'Ben Kingsley', ' Ellen Burstyn', 'Dustin Hoffman', 'Will Ferrell', 'Samuel L. Jackson', ' Rachel Weisz', ' Michelle Monaghan', ' Jack Davenport', ' Paula Patton', 'Russell Crowe', 'Ben Whishaw', ' Dustin Hoffman', ' Judi Dench', 'Christopher Plummer', ' Jessica Biel', 'Johnny Depp', 'Christian Bale']\n",
      "The 2st: ['Tom Hanks', 'Chiwetel Ejiofor', 'Rachel Weisz', ' Bryce Dallas Howard', 'Kate Bosworth', 'Jessica Biel', ' Audrey Tautou', 'Sacha Baron Cohen', 'Jennifer Aniston', 'Bryce Dallas Howard', 'Brad Pitt', ' Justin Theroux', 'Kirsten Dunst', ' Hugh Jackman', ' Scarlett Johansson', ' Maya Rudolph', 'Kang-ho Song', 'Eva Green', 'Meryl Streep', 'Luke Wilson', 'Anne Hathaway', 'Dominic West', 'Hugh Jackman', 'Matt Damon', ' Jeremy Irons', 'Kevin Spacey', 'Morgan Freeman', 'Owen Wilson', 'Scarlett Johansson', 'Gerard Butler', ' Morgan Freeman', ' Ben Kingsley', ' Jennifer Connelly', 'Abbie Cornish', ' Emily Blunt', 'Mark Wahlberg', ' Toni Collette', 'Steve Carell', ' Chiwetel Ejiofor', 'Denzel Washington', 'Edward Norton', 'Tom Cruise', ' Marion Cotillard', 'Will Smith', 'Emily Blunt', ' Bob Balaban', 'Ben Kingsley', ' Ellen Burstyn', 'Dustin Hoffman', 'Will Ferrell', 'Samuel L. Jackson', ' Rachel Weisz', ' Michelle Monaghan', ' Jack Davenport', ' Paula Patton', 'Russell Crowe', 'Ben Whishaw', ' Dustin Hoffman', ' Judi Dench', 'Christopher Plummer', ' Jessica Biel', 'Johnny Depp', 'Christian Bale']\n",
      "The 3st: ['Tom Hanks', 'Chiwetel Ejiofor', 'Rachel Weisz', ' Bryce Dallas Howard', 'Kate Bosworth', 'Jessica Biel', ' Audrey Tautou', 'Sacha Baron Cohen', 'Jennifer Aniston', 'Bryce Dallas Howard', 'Brad Pitt', ' Justin Theroux', 'Kirsten Dunst', ' Hugh Jackman', ' Scarlett Johansson', ' Maya Rudolph', 'Kang-ho Song', 'Eva Green', 'Meryl Streep', 'Luke Wilson', 'Anne Hathaway', 'Dominic West', 'Hugh Jackman', 'Matt Damon', ' Jeremy Irons', 'Kevin Spacey', 'Morgan Freeman', 'Owen Wilson', 'Scarlett Johansson', 'Gerard Butler', ' Morgan Freeman', ' Ben Kingsley', ' Jennifer Connelly', 'Abbie Cornish', ' Emily Blunt', 'Mark Wahlberg', ' Toni Collette', 'Steve Carell', ' Chiwetel Ejiofor', 'Denzel Washington', 'Edward Norton', 'Tom Cruise', ' Marion Cotillard', 'Will Smith', 'Emily Blunt', ' Bob Balaban', 'Ben Kingsley', ' Ellen Burstyn', 'Dustin Hoffman', 'Will Ferrell', 'Samuel L. Jackson', ' Rachel Weisz', ' Michelle Monaghan', ' Jack Davenport', ' Paula Patton', 'Russell Crowe', 'Ben Whishaw', ' Dustin Hoffman', ' Judi Dench', 'Christopher Plummer', ' Jessica Biel', 'Johnny Depp', 'Christian Bale']\n"
     ]
    }
   ],
   "source": [
    "gap_year = {}\n",
    "for actors in data.Actors:\n",
    "    for actor in actors.split('|'):\n",
    "        if actor in gap_year:\n",
    "            continue\n",
    "        else:\n",
    "            years = []\n",
    "            for year in data[data.Actors.str.contains(actor)]['Year']:\n",
    "                years.append(int(year))\n",
    "            try:\n",
    "                gap_year[actor] = max(years)-min(years)\n",
    "            except:\n",
    "                continue\n",
    "ans = pd.Series(gap_year).sort_values()\n",
    "for i , n in enumerate(list(ans[::-1][:3])):\n",
    "    print('The',str(i+1)+'st:',list(ans[ans==n].index))"
   ]
  },
  {
   "cell_type": "code",
   "execution_count": 77,
   "metadata": {},
   "outputs": [
    {
     "name": "stdout",
     "output_type": "stream",
     "text": [
      "{'Brad Pitt', ' Christopher Lee', \" Frances O'Connor\", 'Dakota Johnson', ' Anna Camp', ' Vanessa Ferlito', 'Paddy Considine', 'Sylvester Stallone', 'Freddie Crowder', 'Emma Watson', 'Thomas Mann', 'Bryce Dallas Howard', 'Guillaume Baillargeon', ' Karl Urban', 'Noomi Rapace', ' Andy Lau', 'Andre Braugher', 'Matthew Macfadyen', 'Idris Elba', 'Brittany Snow', ' Kara Hayward', 'James Marsden', 'Diego Klattenhoff', ' Ashlyn Sanchez', ' Sean Penn', ' Donald Sutherland', ' Kate Winslet', \"Auli'i Cravalho\", 'Anna Kendrick', ' Alexandra Daddario', 'Mickey Rourke', ' Tim Allen', 'Samantha Morton', ' Colin Firth', ' Christopher Plummer', ' Ian McShane', ' Valerie Mahaffey', ' Ray Winstone', 'Craig T. Nelson', ' Nicole Kidman', ' Donnie Yen', ' Steve Carell', ' Dominic Cooper', ' Elizabeth Banks', ' Dennis Quaid', ' Dean Norris', ' Amara Miller', ' Jane Lynch', 'Sally Phillips', ' Kylie Rogers', 'Stephen Moyer', ' Michelle Williams', ' Andrew Garfield', 'Jack Huston', ' Rosie Huntington-Whiteley', 'Guy Pearce', ' Aaron Yoo', ' Wes Bentley', ' Joe Manganiello', 'Joel Kinnaman', 'Eddie Murphy', ' Gabriella Wilde', ' Michael Gambon', 'Tom Cruise', 'Kurt Russell', ' Martin Henderson', 'Eric Bana', 'Liana Liberato', ' Jamie Bell', ' Chris Cooper', ' Christopher Mintz-Plasse', ' Tony Danza', ' Paul Anderson', ' Oakes Fegley', 'Scarlett Johansson', ' Ross Kimball', 'Shannon Woodward', ' Ellen Page', 'Rooney Mara', 'Tom Hanks', ' Paul Birchard', ' Owen Wilson', ' Oliver Cooper', ' Robert Knepper', ' Kate McKinnon', ' Jenna Elfman', ' Aryana Engineer', ' John Corbett', 'Jennifer Lawrence', 'Ginnifer Goodwin', 'Kate Hudson', 'Cate Blanchett', ' Raffey Cassidy', 'Rachel Bilson', ' Peter McRobbie', 'Lydia Wilson', ' Tim Roth', ' Oona Chaplin', ' Sandra Bullock', 'Megan Fox', 'Kate Winslet', 'Ryan Reynolds', ' Storm Acheche Sahlstrom', ' Paul Giamatti', 'Tim Blake Nelson', ' Rhona Mitra', 'Sasha Lane', ' Wenwen Han', ' Steve Coogan', ' Jim Broadbent', ' Ed Harris', ' Jaden Smith', ' Emilie de Ravin', ' James Marsden', 'Tilda Swinton', ' Robin Wright', ' Theo James', ' Juno Temple', ' John Carroll Lynch', ' Dick Van Dyke', ' Susan Sarandon', 'Dev Patel', 'Annabeth Gish', ' Golshifteh Farahani', ' Kieran Culkin', ' Colin Quinn', ' Oprah Winfrey', ' Jalil Lespert', ' Ewen Leslie', ' January Jones', ' Lauren Holly', 'Maggie Grace', 'Jason Sudeikis', 'Jim Carrey', ' Bryce Dallas Howard', ' Jason Segel', ' John Cullum', ' Jon Hamm', ' Zoe Kravitz', 'Carmen Electra', ' Aasif Mandvi', ' Scott Glenn', 'Jared Harris', ' Judy Davis', ' Michael Yare', ' Vera Farmiga', ' Aidan Gillen', ' Jeremy Irons', ' Lisa Kudrow', ' Eva Mendes', 'Giancarlo Esposito', 'Michael Fassbender', ' Julianna Margulies', ' Michael Kelly', ' Linda Gegusch', ' Sarah Paulson', 'Deborah Kara Unger', 'Teresa Palmer', ' Liam Neeson', 'Tadanobu Asano', ' Steve Martin', ' Brian Geraghty', ' Will Ferrell', ' Peter Riegert', ' Larry the Cable Guy', ' Charlie Hunnam', ' Rila Fukushima', ' Bryan Greenberg', ' Kiersey Clemons', 'Forest Whitaker', ' Bill Paxton', ' Willem Dafoe', ' Emma Thompson', ' Mary Steenburgen', ' Alec Baldwin', ' Alexis Clagett', ' Graham McTavish', ' Oliver Platt', 'Emile Hirsch', \" Jerry O'Connell\", 'Jeremy Renner', ' Emma Fitzpatrick', 'Lucas Hedges', ' Ed Helms', 'Seth MacFarlane', ' Morgan Freeman', ' Eva Green', ' Rose Byrne', ' Idina Menzel', ' Michael Caine', ' Tyrese Gibson', ' Rachael Blake', ' Hayley McElhinney', ' T.J. Miller', ' James McAvoy', ' Christopher McDonald', 'Kristen Wiig', ' Morena Baccarin', ' Jacob Tremblay', ' Jo Hartley', ' Colin Hanks', ' Sunny Pawar', ' Mia Goth', ' Bokeem Woodbine', 'Marley Shelton', ' Megan Charpentier', ' Vanessa Hudgens', 'Renee Zellweger', 'James McAvoy', 'Jennifer Jason Leigh', ' Renee Zellweger', 'Naomi Watts', 'Stellan Skarsgard', ' Olga Kurylenko', 'Gerard Butler', ' Taylor Lautner', ' Matt Long', ' Craig Robinson', 'Alexander Black', ' Antonio Tarver', ' Kit Harington', ' Dakota Johnson', ' Adrian Grenier', ' Laura Linney', 'Emily Browning', ' Katey Sagal', 'Amy Poehler', ' Alex Essoe', 'Alden Ehrenreich', 'Alice Englert', ' Famke Janssen', ' Phylicia Rashad', ' David Denman', ' Anthony Mackie', 'Tom Mison', 'Annette Bening', ' Liam Hemsworth', ' Gael Garcia Bernal', ' Nikolaj Coster-Waldau', ' Abbie Cornish', ' Eli Roth', ' Jack Madigan', 'Morgan Saylor', ' Min-sik Choi', 'Michael B. Jordan', 'Kelsey Grammer', ' Tilda Swinton', 'Jeff Bridges', ' Israel Broussard', ' Riz Ahmed', ' Alex Fisher', ' Jennifer Lawrence', ' Tom Holland', ' Paul Dano', ' Lewis Black', ' Jack McBrayer', 'Dominique Swain', ' Rupert Grint', ' Boyd Holbrook', ' Sarah Gadon', 'Kirsten Dunst', ' Kyle Chandler', 'Alexandra Daddario', ' Robert Duvall', ' Casey Affleck', ' Jude Law', 'Jason Momoa', ' Kevin Costner', ' Teri Hatcher', 'Geoffrey Rush', ' Allen Leech', ' Eric Stonestreet', ' Rupert Friend', 'Genesis Rodriguez', ' Joey Morgan', 'Keira Knightley', 'Mark Ruffalo', ' Teresa Palmer', ' George MacKay', ' Danny Trejo', ' Haley Bennett', \" John D'Leo\", ' Jesse Eisenberg', 'Casey Affleck', ' Joel Courtney', 'Ronnie Gene Blevins', 'Nick Swardson', 'Sigourney Weaver', 'Jessica Biel', ' Taylor Swift', ' Jonny Brugh', 'Tyler Perry', ' Tabu', ' Nathalie Boltt', ' Christina Applegate', ' AJ Michalka', ' Justin Long', ' Bruno Campos', ' Halle Berry', ' Miles Teller', ' Bill Nighy', ' Jamie Campbell Bower', ' Michael Ealy', 'Alfred Molina', ' Josh Wiggins', ' Armie Hammer', ' Elizabeth Olsen', ' Melissa McCarthy', 'Adam Brody', ' Jonathan Roumie', ' Sean Bridgers', ' Zoe Kazan', ' Maya Rudolph', ' Alan Tudyk', ' Leslie Bibb', ' Rodrigo Santoro', 'Eric Godon', 'Jay Baruchel', 'Nazanin Boniadi', ' Juan Saavedra', 'Ralph Fiennes', ' Edie Falco', ' Kathryn Hahn', ' Miyavi', ' Bruce Greenwood', 'Anders Danielsen Lie', ' Alistair Abell', ' Gil Birmingham', 'Chris Hemsworth', 'Michelle Yeoh', ' Iain Glen', 'Wendy Crewson', ' Julie Benz', 'Elijah Smith', ' Mary-Louise Parker', ' Maria Dizzia', 'Benedict Cumberbatch', ' Giovanni Ribisi', ' Aldis Hodge', ' Sophie Perry', ' Lorraine Toussaint', ' Christoph Waltz', ' Dianna Agron', ' Emile Hirsch', ' Joel Kinnaman', ' Peter Sarsgaard', ' Cary Elwes', ' Glenn Close', ' Jordana Brewster', ' David Oyelowo', ' Danny McBride', 'Fred Dalton Thompson', ' Kristen Stewart', ' Nick Krause', ' Lucy Liu', ' Luing Andrews', ' Erin Moriarty', ' Colm Meaney', ' Nick Frost', ' Jamie Foxx', ' Gary Oldman', ' Rasmus Hardiker', 'Demian Bichir', ' Thandie Newton', 'Jim Broadbent', ' Rebel Wilson', ' Christian Stevens', ' Angelina Jolie', 'Justin Long', ' Maude Apatow', 'Michael Ealy', ' Seth Rogen', ' David Spade', ' Tom Costello', ' Keith Carradine', 'Miles Teller', 'Michael Shannon', ' Danny DeVito', 'Jason Clarke', 'Mandy Moore', 'Jeffrey Wright', ' Richard Madden', ' Matthew Fox', 'Asa Butterfield', ' Keith David', \"Fionn O'Shea\", ' Vincent Cassel', 'Sam Worthington', ' Lois van Wijk', ' Amy Ryan', 'Rory Cochrane', ' Jared Harris', ' David Thewlis', ' Julianne Hough', ' Laurence Fishburne', 'Gemma Arterton', 'Emily Blunt', 'Aidan Quinn', ' Keanu Reeves', ' Noah Wiseman', ' Melissa Benoist', ' Karolina Gruszka', 'Alice Braga', ' Demi Moore', ' Harley Quinn Smith', 'Stephen Lang', ' Allison Tolman', ' Milla Jovovich', ' Russell Brand', ' Paul Walker', ' Matthew Macfadyen', ' Johnny Depp', ' Bonnie Hunt', ' Madeleine West', ' Melissa Leo', ' Sarita Choudhury', ' Mary McCormack', ' Common', ' Paula Prentiss', 'Ryan Gosling', ' Rip Torn', ' Josh Hutcherson', ' Ella Rumpf', 'Salma Hayek', ' Kodi Smit-McPhee', 'Jared Gilman', ' Cynthia Nixon', 'Joaquin Phoenix', ' Thomas Jane', ' Ashton Kutcher', ' Logan Huffman', ' Ronnie Gene Blevins', ' Chris Wedge', 'Ethan Hawke', 'Toby Kebbell', 'Anton Yelchin', ' Barkhad Abdi', ' Joseph Gordon-Levitt', ' Jon Favreau', 'Dan Fogler', ' Edgar Ramirez', ' Judi Dench', ' Bella Thorne', ' Russell Crowe', ' Christian Distefano', ' Gerry Bednob', ' Jamie Blackley', 'Robert Downey Jr.', ' Robin Williams', ' Carla Gugino', ' Jena Malone', ' Zoe Bell', ' Leslie Jones', 'Levi Miller', 'Stanley Tucci', 'Max Martini', ' Ewan McGregor', ' Logan Miller', ' Laura Dern', 'Rhona Mitra', 'Kenneth Branagh', ' Charlie Day', ' Sam Shepard', ' Daniella Kertesz', 'Bryan Cranston', ' Penelope Wilton', ' Steele Stebbins', ' Diego Luna', 'Christopher Plummer', 'Jackie Earle Haley', ' Tobias Menzies', ' Victoria Justice', 'Jared Leto', 'Chadwick Boseman', ' Diane Lane', ' Alan Rickman', ' Val Kilmer', ' Rachel McAdams', 'Freddie Highmore', ' Dermot Mulroney', 'Natalie Portman', ' Tom Sizemore', 'Shailene Woodley', ' Michael Constantine', ' Lisa Thoreson', 'Bradley Cooper', ' Natalie Martinez', ' Austin Abrams', ' Lucy Walters', ' Martin Freeman', ' Rufus Sewell', ' Alison Pill', 'Akiva Schaffer', ' Mark Strong', ' Billy Bob Thornton', ' Patrick Dempsey', ' Mindy Kaling', 'Chatchawai Kamonsakpitak', 'Josh Brolin', 'Kimberly Elise', 'Nicole Kidman', ' William Fichtner', ' Sienna Miller', ' Emily Blunt', ' Amanda Bynes', ' Penelope Cruz', ' T.R. Knight', ' Cameron Diaz', 'Dennis Quaid', ' Keira Knightley', ' Tommy Lee Jones', 'Daniel Bruhl', ' Trey Songz', ' Alison Sudol', 'Matt Lanter', ' John Turturro', ' Jack Nicholson', ' Lior Ashkenazi', 'Leonardo DiCaprio', 'Brie Larson', ' Zach Grenier', 'Ryoko Seta', 'Martin Freeman', ' Rabah Nait Oufella', ' Amber Tamblyn', ' Deanna Dunagan', 'Ferdia Walsh-Peelo', ' Aaron Taylor-Johnson', 'John Krasinski', ' Scott Eastwood', 'Milla Jovovich', ' Toby Kebbell', ' Paul Reiser', ' Zooey Deschanel', ' Helen Mirren', 'Cynthia Nixon', 'Noah Ringer', ' Jessica Brown Findlay', ' Luke Kleintank', 'Francesc Albiol', ' Greg Kinnear', ' Chloe Sevigny', ' Alison Brie', ' Charlie Tahan', ' Vanessa Lachey', ' Anna Friel', 'Edgar Ramirez', 'Emma Greenwell', ' F. Murray Abraham', 'Alex Pettyfer', ' Kristin Chenoweth', ' Jennifer Ehle', 'Olivia DeJonge', ' Will Dalton', ' Chris Evans', ' Dax Flame', ' Jason Bateman', ' Anthony Hopkins', ' Ciaran Hinds', 'Kenny Wormald', 'Clive Owen', ' Julie Walters', ' Julianne Moore', ' Danila Kozlovsky', ' Matt Bomer', ' Dustin Hoffman', ' Amber Heard', ' Rinko Kikuchi', ' Andrea Riseborough', ' Taylor Schilling', 'Lea Seydoux', ' Alessandro Nivola', ' Laura Ramsey', ' Katie Holmes', ' Madison Wolfe', 'Lambert Wilson', ' Jonathan Rhys Meyers', 'Daniel Craig', ' Geoffrey Rush', ' Jack Davenport', ' David Strathairn', ' Crispin Glover', 'Simon Pegg', ' Haley Joel Osment', ' Guy Pearce', ' Adam Levine', 'Jamie Foxx', ' Alfred Molina', \" Jason O'Mara\", ' Anya Taylor-Joy', ' Rachel Wood', 'Diane Lane', ' Octavia Spencer', ' Charles Dance', ' Richard Jenkins', ' Will Smith', ' Yoo Gong', ' Wei Tang', ' Katherine Heigl', ' Katherine Waterston', ' Michael Shannon', ' Noel Fisher', ' Dylan Minnette', ' Helena Bonham Carter', ' Jeremy McWilliams', ' Sam Rockwell', ' Alfie Allen', ' Rob Corddry', ' Ice Cube', ' Robert Downey Jr.', ' Chadwick Boseman', 'Gabriel Chavarria', ' Jeff Kahn', ' Hailee Steinfeld', 'Scott Eastwood', ' Cara Buono', 'Sally Field', 'Emma Stone', ' Paul Newman', ' Scott Mescudi', ' Gaby Hoffmann', ' Aurelien Recoing', 'Jae Head', 'Lily James', 'Brian Dennehy', ' Mickey Rourke', 'Charlie Hunnam', ' Mahershala Ali', 'Emory Cohen', ' Michael Parks', ' John Doman', 'Shia LaBeouf', ' Olivia Colman', ' Brendan Gleeson', ' Sarah Polley', 'Benicio Del Toro', ' Tim McGraw', 'Sharlto Copley', ' Dominique Tipper', ' Gretchen Mol', ' Kari Matchett', ' Adewale Akinnuoye-Agbaje', 'Hilary Swank', ' Ty Simpkins', ' Ellen Burstyn', ' Jeremy Irvine', ' Julia Ormond', ' Gattlin Griffith', ' Salma Hayek', ' Tracy Letts', 'Kate Mara', ' Andy Samberg', ' Oscar Isaac', ' Alexander Skarsgard', ' Max Minghella', ' Mila Kunis', 'Robert Duvall', ' Gregg Weiner', ' Cara Delevingne', ' Tom Hanks', 'Christina Applegate', ' Jennifer Jason Leigh', ' Jasper Newell', 'Fran Kranz', 'Vera Farmiga', 'Ezra Miller', ' Jim Sturgess', 'Adelaide Kane', 'Elizabeth Reaser', ' Riccardo Scamarcio', 'Meryl Streep', ' Josh Peck', ' Hugh Jackman', ' James Badge Dale', 'Cedric the Entertainer', 'Sean Penn', ' Steve Wiebe', ' Brie Larson', ' Lara Pulver', 'Jennifer Garner', ' Ron Perlman', 'Hailee Steinfeld', 'Robert De Niro', ' Rory J. Saper', ' Garret Dillahunt', 'Amanda Bynes', ' McCaul Lombardi', ' Joe Cobden', ' Natalie Portman', ' Maddie Ziegler', ' Taika Waititi', ' Lars Eidinger', ' Christopher Fitzgerald', ' Kristen Bell', ' Xavier Samuel', 'Michelle Williams', ' Werner Herzog', 'Chiwetel Ejiofor', ' Harvey Keitel', 'Ted Levine', 'Katherine Heigl', 'Ray Romano', 'Kodi Smit-McPhee', ' Billy Burke', 'Eva Green', 'Paul Bettany', ' Jodie Foster', ' Dougie McConnell', ' Jean-Claude Van Damme', ' Brenton Thwaites', ' Mark Ruffalo', ' Eric Bana', 'Seth Rogen', ' Toni Collette', 'Tyler James Williams', 'Jennifer Aniston', 'Jemaine Clement', 'Bailey Anne Borders', ' Kurt Russell', ' Matt Damon', ' Scarlett Johansson', ' Barry Ward', ' Chiwetel Ejiofor', 'Andreas Wisniewski', \" Vincent D'Onofrio\", ' Annabelle Attanasio', ' Liv Tyler', 'Lewis MacDougall', 'Hayden Christensen', ' Alain Moussi', ' Dakota Goyo', ' Jeremy Davies', 'Christopher Evan Welch', ' Miranda Cosgrove', 'Richard Jenkins', ' Martin McCann', ' Miles Heizer', ' Hugh Laurie', ' Ian McKellen', ' Chris Hemsworth', ' Ving Rhames', 'Zachary Quinto', 'Saoirse Ronan', 'Sophie Nelisse', 'Cheryl Hines', 'Mike Vogel', ' Kevin Nealon', ' Meryl Streep', 'Tom Hughes', 'Logan Lerman', ' Bruce Boxleitner', 'Jason Bateman', 'Sarah Jessica Parker', ' Jeremy Renner', ' Tom Wilkinson', ' Greta Gerwig', ' Brittany Murphy', ' Felicity Jones', ' Ethan Suplee', 'Lorenza Izzo', 'Sullivan Stapleton', ' Craig Ferguson', ' Jean Reno', ' Mandy Gonzalez', ' Alan Arkin', ' Annalise Basso', 'David Oyelowo', ' Stephen Merchant', ' Austin Stowell', 'Adam Rodriguez', 'Colton Haynes', ' Anika Noni Rose', ' Christina Hendricks', ' Aaron Paul', ' Gemma Arterton', 'Javier Bardem', ' Analeigh Tipton', ' Robbie Amell', ' Jordan Nagai', ' Robert Sheehan', ' Daniel Radcliffe', ' Geoffrey Arend', 'Adam Sandler', ' Anna Hutchison', ' Vernetta Lopez', ' Rebecca Ferguson', ' Tessa Thompson', 'Julianne Hough', ' Blake Lively', 'Zoey Deutch', ' Linh Dan Pham', ' Gina Carano', 'Lily Collins', 'Louis C.K.', 'Joe Alwyn', ' Justin Bartha', ' Anil Kapoor', ' Usher Raymond', ' Florence Kastriner', ' Rosamund Pike', ' Skyler Gisondo', 'Kelly Macdonald', ' Vin Diesel', 'Jim Parsons', ' Tijuana Ricks', ' Alicia Vikander', ' Dev Patel', 'Gary Oldman', ' J.K. Simmons', ' Ewa Froling', ' Michael Pena', ' Idris Elba', 'Oona Laurence', ' Ken Watanabe', ' Mohamed Akhzam', 'Amr Waked', 'Emilia Clarke', 'Byung-hun Lee', ' Michelle Yeoh', 'Elizabeth Berrington', 'Jamie Dornan', 'Jake Johnson', ' Ali Larter', ' India Eisley', ' Sigourney Weaver', 'Will Smith', ' Josh Brener', ' Viggo Mortensen', ' Nick Offerman', ' Brooke Shields', ' Joe Anderson', \" Beverly D'Angelo\", 'Helen Mirren', ' Michael C. Hall', ' Liana Liberato', ' Matthias Schoenaerts', ' Corey Stoll', ' Nicholas Hoult', 'Colin Firth', ' Abigail Breslin', ' Carly Rae Jepsen', 'Dominic West', ' Logan Lerman', ' Andy Serkis', ' Dan Stevens', ' Rizwan Manji', ' Matt Lanter', ' Lucy Fry', 'Zooey Deschanel', 'Aaron Taylor-Johnson', ' Emma Roberts', ' Natascha McElhone', 'Brian Cox', ' Thomas Middleditch', 'Rebecca Hall', ' Armin Mueller-Stahl', ' Ezra Miller', 'Reese Witherspoon', ' Jonathan Daniel Brown', 'Keanu Reeves', ' Jeffrey Wright', 'Brendan Gleeson', 'Matthew McConaughey', ' Matthew Perry', 'Karen Allen', ' Julia Stiles', ' Ella Anderson', ' John Boyega', 'Benjamin Walker', ' Colm Feore', 'Robin Wright', ' Vince Vaughn', 'Robert Pattinson', ' Kate Beckinsale', ' Peter Facinelli', 'Sacha Baron Cohen', ' Alden Ehrenreich', ' John Ratzenberger', 'Scott Speedman', ' Justin Timberlake', 'Jason Segel', ' Emma Stone', 'Lucas Till', 'Russell Crowe', 'Josh Stewart', ' Florence Clery', ' Mireille Enos', ' Nick Nolte', 'Paul Dano', 'Daniel Radcliffe', 'Andy Powers', ' Jim Carrey', 'Jai Courtney', 'Dustin Hoffman', ' Nathan Fillion', ' Arnold Schwarzenegger', ' Max Greenfield', ' Brian Howe', ' Jet Li', 'Jaden Smith', 'Judah Lewis', ' Dakota Blue Richards', \" Zac Mattoon O'Brien\", ' Taylor Kitsch', ' Margot Robbie', ' Paula Patton', 'James Franco', ' Jack Black', ' Pierce Brosnan', \" Mo'Nique\", 'Nicholas Hoult', ' Kyra Sedgwick', ' Noomi Rapace', ' Tom Hardy', ' Sheila Kelley', ' Dax Shepard', 'Carice van Houten', ' Mel Raido', 'Isaiah Stone', 'Billy Crudup', ' Jason Statham', 'Jon Bernthal', ' Freddy Rodriguez', ' Laura Allen', ' Alexis Dziena', ' Kristen Wiig', ' Sean Bott', 'Ellen Page', ' Tom Prior', ' Zac Efron', ' Keri Russell', 'Patrick Stewart', ' Harry Connick Jr.', 'Romain Duris', ' Raghuvir Joshi', ' Sam Worthington', ' Zachary Bennett', ' Lynn Collins', ' Antonio Banderas', 'Thomas Jane', ' ?lafur Darri ?lafsson', 'John C. Reilly', ' Shawn Roberts', ' Jack Reynor', 'Woody Allen', ' Rose McGowan', 'Ellen DeGeneres', ' Noah Taylor', ' Lukas Hassel', ' Ashley Benson', ' Tony Revolori', ' Tye Sheridan', ' Kevin James', 'Nicolas Cage', ' Art Parkinson', ' Garrett Hedlund', ' Daniel Henshall', ' Kagiso Kuypers', 'Lena Endre', 'Angela Bassett', ' Gabriel Basso', 'Annalise Basso', 'Ken Stott', 'Mia Wasikowska', ' Duncan Joiner', 'Nathan Fillion', ' Blake Jenner', ' Bryan Cranston', ' Danielle Nicolet', 'Michael Vartan', ' Michelle Pfeiffer', 'Katherine Waterston', ' John Gallagher Jr.', ' Ruth Wilson', ' Maria Doyle Kennedy', ' Billy Crudup', 'Shameik Moore', ' Michelle Monaghan', ' Danny Glover', ' Robert Redford', ' Gugu Mbatha-Raw', ' Henry Cavill', ' Bella Heathcote', 'Philip Seymour Hoffman', ' Viola Davis', ' Michael B. Jordan', 'Craig Van Hook', ' Til Schweiger', ' Forest Whitaker', ' Steven Mackintosh', ' Morgan Lily', ' Randy Couture', ' Oaklee Pendergast', ' Aaron Eckhart', ' Will Poulter', ' Samuel L. Jackson', 'Billy Connolly', ' Ellie Kemper', ' Michael Douglas', ' 50 Cent', ' Kevin Kline', ' Judy Greer', ' Jenny Slate', 'Laura Dern', 'Michael Cera', 'Jim Sturgess', ' Sebastian Stan', ' Michael Kenneth Williams', ' John Hurt', ' Justin Theroux', 'Rihanna', 'Rosie Shaw', 'Jessica Chastain', ' Jane Levy', ' Jordi Moll?', 'Topher Grace', 'Dave Bautista', ' Nathan Phillips', ' Pierre Niney', ' Elijah Wood', ' AnnaSophia Robb', ' Damaine Radcliff', 'Nicole Beharie', 'Cori Gonzalez-Macuer', ' Kevin Bacon', ' Saurabh Shukla', ' Olivia Williams', ' Burt Young', 'Anika Noni Rose', 'Adrien Brody', 'Channing Tatum', ' Josef Altin', ' Ben Whishaw', ' Brooklyn Decker', ' Taissa Farmiga', ' Sarah Roemer', ' Jenna Dewan Tatum', ' Simon Pegg', 'Tom Wilkinson', ' Zoe Saldana', ' Derek Jeter', \" De'Shawn Washington\", 'Patrick Wilson', ' RJ Cyler', ' Charlie Heaton', ' Rene Russo', ' Jaime Winstone', ' John Hodgman', ' Catalina Sandino Moreno', ' Jordan Carlos', 'Martin Stringer', 'Margarita Levieva', ' Carrie-Anne Moss', ' Anna Kendrick', ' Charles S. Dutton', ' Maggie Gyllenhaal', 'Will Ferrell', ' Dan Fogler', 'Domhnall Gleeson', ' Bob Balaban', 'Laurent Lucas', ' Michelle Rodriguez', 'Brenton Thwaites', 'Anna Faris', ' Brittany Snow', 'Taron Egerton', ' Djimon Hounsou', ' Claire Danes', 'Oliver Platt', 'Ruth Wilson', ' Sally Field', ' Michael Keaton', 'Michael Nyqvist', ' Dave Franco', 'Travis Tope', ' Mason Lee', ' Simon Helberg', ' Richard Armitage', ' Jennifer Morrison', ' Ray Stevenson', ' James Ransone', ' Mackenzie Foy', 'Robert Patrick', ' Rose Leslie', ' Tian Jing', ' Gary Cole', ' Timothy Olyphant', ' Leehom Wang', ' Tania Raymonde', ' Albert Brooks', ' Evan Rachel Wood', ' Lainie Kazan', ' Christian Stolte', ' Ethan Hawke', ' David Wenham', 'Sandra Bullock', ' Rachel House', ' Daniel Zovatto', ' Rihanna', 'Aomi Muyock', ' Kat Dennings', ' Kate Bosworth', ' Leland Orser', 'Abigail Breslin', ' Katee Sackhoff', ' Terrence Howard', 'Jemima West', 'Nicole Parker', ' Gal Gadot', ' Colin Farrell', 'Chris Pine', ' Jennifer Connelly', \" Lupita Nyong'o\", ' Jon Daly', ' Rooney Mara', ' Kathy Bates', ' Jerry Stiller', ' Emory Cohen', ' Sally Hawkins', ' Jeff Daniels', ' Michael Rooker', ' Leonard Nimoy', ' Jane Fonda', ' Su Elliot', ' Mark Rylance', ' Demian Bichir', 'Ben Stiller', 'Mel Gibson', ' Ivo Nandi', 'Elijah Wood', ' Channing Tatum', 'Jack Black', 'Christopher Mintz-Plasse', ' Arturo Castro', 'Tommy Lee Jones', ' Juliet Rylance', ' Laurie Holden', 'Kerry Washington', ' Sylvester Stallone', 'Elisabeth Moss', 'Henry Cavill', ' Bruce Willis', 'Taraji P. Henson', ' Jennifer Lopez', ' Garrett M. Brown', 'Gabriella Wilde', ' Edward Norton', ' Naomi Watts', ' Jessica Chastain', ' Ruby Barnhill', ' Jessica Sula', ' James Franco', ' Thomas Haden Church', ' Vincent Kartheiser', ' Wentworth Miller', ' Nicholas Hope', 'Sam Neill', 'Taylor Kitsch', ' Kim Cattrall', ' Sylvia Hoeks', ' John Cusack', ' Jake Gyllenhaal', ' Paul Rudd', ' Olivia Wilde', ' Cary-Hiroyuki Tagawa', ' Emilie Leclerc', 'Denzel Washington', 'Blake Lively', ' Kelly Adams', ' David Harbour', ' Clive Owen', 'Kate Bosworth', ' Nadine Velazquez', ' Amy Adams', ' Charlize Theron', 'Luke Evans', ' Malcolm Sinclair', ' Brett Cullen', ' Ike Barinholtz', ' Dane DeHaan', 'Derek Jacobi', ' ?scar Jaenada', ' Derek Luke', \"Ed O'Neill\", ' Kaya Scodelario', 'Tom Hardy', ' Dan Byrd', ' Drew Barrymore', ' Chris Rock', ' Linda Cardellini', ' Andy Garcia', ' Britt Robertson', 'Diego Luna', ' Janet McTeer', 'Vince Vaughn', ' Jackson Rathbone', ' Jason Schwartzman', ' Klara Kristin', ' Michael Pitt', ' Bill Hader', ' Marlon Wayans', ' Mathieu Amalric', 'Winona Ryder', 'Viggo Mortensen', ' Kelly Reilly', ' Taron Egerton', 'Ben Winchell', ' Joseph Fiennes', ' Hugh Grant', ' Michael Sheen', ' Kiernan Shipka', ' Sharlto Copley', 'Don Cheadle', 'Amanda Peet', ' Ryan Guzman', ' Kathleen Quinlan', ' Freida Pinto', ' Stephen Rea', ' Ni Ni', ' George Clooney', ' Tom Hiddleston', ' Hugo Weaving', ' Jennifer Garner', ' Chris Pine', ' Josh Gad', ' America Ferrera', 'Suraj Sharma', ' Chris Messina', ' Samantha Isler', 'Vin Diesel', ' Jared Leto', 'Charlize Theron', 'Lily-Rose Depp', ' Kaitlin Olson', ' Ryan Gosling', ' Dean Mumford', ' Gerard Butler', ' Jessie Ok Gray', ' Jessica Barden', ' Lou Taylor Pucci', ' George Lopez', ' Jai Courtney', 'Max von Sydow', ' Walton Goggins', 'Joshua Leonard', 'Catherine Keener', 'Emma Thompson', ' Kevin McKidd', ' Josh Brolin', 'Hayley Atwell', 'Richenda Carey', ' Vicky Krieps', ' Orlando Bloom', ' Aubrey Plaza', ' Ruben Blades', ' Shea Adams', 'Momo Dione', ' Danny Huston', 'Eloise Mumford', ' Odeya Rush', ' Jeffrey Dean Morgan', ' Michiel Huisman', ' Seth MacFarlane', ' Naomie Harris', ' Eddie Marsan', ' Vincent Ebrahim', 'Harrison Ford', 'Arnold Schwarzenegger', 'Nia Vardalos', 'Natasha Henstridge', 'Cameron Diaz', ' Sanjeev Bhaskar', ' Carmen Ejogo', 'Kristen Stewart', ' Temuera Morrison', ' Emilia Clarke', ' Lulu Wilson', 'Adewale Akinnuoye-Agbaje', ' Theo Rossi', ' Karl Glusman', 'Laurence Fishburne', ' Steve Buscemi', 'Chris Pratt', 'Ed Helms', 'Kate Beckinsale', 'Brandon T. Jackson', 'Tina Fey', ' Lena Headey', ' Evangeline Lilly', ' Eddie Izzard', ' Philip Seymour Hoffman', ' Toby Jones', ' Kyle Gallner', 'Frank Madigan', 'Rosamund Pike', 'Joseph Mawle', 'Michael Stuhlbarg', ' Janelle Monae', 'Gabourey Sidibe', 'Colin Farrell', ' James DuMont', ' Arnaud Viard', ' Bridgette Barrett', ' Diane Kruger', ' Lucas Black', 'Jennifer Lopez', ' Maggie Grace', 'Daisy Ridley', 'Sarah Roemer', ' Lorenza Izzo', 'Chris Evans', ' Mark Wahlberg', ' Tom Felton', ' Oona Laurence', ' Daniel Olbrychski', 'George Clooney', ' Ron Livingston', ' Ned Beatty', ' Stacy Martin', ' Christian Cooke', ' James Gandolfini', ' Heath Ledger', ' Sean Patrick Thomas', 'Mark Chao', 'Riley Keough', ' Wendi McLendon-Covey', ' Joan Cusack', ' Stephen Henderson', ' Jorge Garcia', ' Gemma Jones', 'Adam Pally', 'Samuel L. Jackson', ' Michael McElhatton', ' Sam Riley', ' Sue Dahlman', 'Karen Disher', ' Dominic West', ' Sienna Guillory', 'Faith Wladyka', ' Shiloh Fernandez', ' Julian Barratt', 'Henry Thomas', 'Trenton Rogers', 'Thomas Haden Church', ' Robert De Niro', 'Nat Wolff', ' Dolph Lundgren', 'Elle Fanning', ' Brian Caspe', 'Michael Mantell', ' Brenda Blethyn', ' Dana Fuchs', ' Sam Trammell', ' Emily Mortimer', 'Jackie Chan', ' Randall Park', ' Barkhad Abdirahman', ' Ed Skrein', ' Matthew Zuk', ' Isabel Lucas', ' Dwayne Johnson', 'Charlotte Gainsbourg', 'Dale Dickey', 'Teyonah Parris', ' Peter Dinklage', 'Jane Levy', ' Carey Mulligan', 'Rachel Weisz', ' Jacki Weaver', ' Donna Murphy', 'Katy Barker', 'Chris Isaak', ' Jamie Dornan', ' Cillian Murphy', ' Anne Hathaway', ' Cam Gigandet', 'Charlie Cox', 'Jonah Hill', 'Alexander Skarsgard', ' Katie Crown', 'Tony Shalhoub', ' Harrison Ford', 'Sophie Okonedo', 'Evan Rachel Wood', ' Timothy Spall', ' Josh Lucas', ' Mariah Carey', ' Tom Cruise', ' Ji-min Han', ' Jae Head', 'Aaron Paul', ' Benedict Cumberbatch', ' Matthew McConaughey', 'Kevin Spacey', 'Peter Stormare', ' Adrian Martinez', ' Camille Cottin', ' Rebecca Hall', ' Julian Dennison', ' Sean Bean', ' Nicolas Cage', ' Topher Grace', 'Anthony LaPaglia', 'Matt Damon', 'Dane DeHaan', ' Sandra Kinder', 'Alexandra Maria Lara', ' Sarah Snook', 'Andie MacDowell', ' Maika Monroe', ' Rosemarie DeWitt', 'Anthony Hopkins', ' Alex Pettyfer', 'Richard Dreyfuss', ' Marion Cotillard', ' Kristin Scott Thomas', ' Reese Witherspoon', ' Saoirse Ronan', ' Michael Nyqvist', ' Hayden Panettiere', 'Alia Shawkat', ' Christian Bale', 'Kristen Connolly', ' Jessica Alba', 'Charlie Day', ' Elle Fanning', ' Patricia Arquette', 'Willem Dafoe', 'Sam Rockwell', 'Sonoya Mizuno', 'David Lyons', ' Selena Gomez', ' CCH Pounder', ' Annie Rose Buckley', ' John C. Reilly', ' Will Arnett', ' Marcia Gay Harden', ' Lily Cole', 'Kevin Costner', 'Steve Carell', 'Dwayne Johnson', ' Bill Engvall', 'Dan Stevens', 'Brandon Routh', ' Luke Evans', ' Bill Murray', ' Riley Keough', ' Emily Ratajkowski', ' Rob Riggle', ' Sam Claflin', ' Ryan Lee', ' Benjamin Bratt', 'Paul Giamatti', ' Benicio Del Toro', ' Ralph Fiennes', ' C.H. Evans', 'Ruth Negga', ' Nat Wolff', ' Maria Bello', ' Jessica Barth', 'Sarah Clarke', 'David Denman', ' Frank Langella', ' Lucas Till', ' Iris Apatow', ' Candice Bergen', ' Lily Rabe', 'Madina Nalwanga', ' Tao Okamoto', ' Audrey Tautou', ' Malin Akerman', ' Riley Thomas Stewart', ' Anton Yelchin', ' Domhnall Gleeson', 'Vanessa Hudgens', 'John Cusack', ' Tyne Daly', ' Terence Stamp', 'Viola Davis', ' Thomas Lennon', ' Ed Oxenbould', ' Moon Bloodgood', ' Michael Chiklis', ' Aaron Burns', 'Angelina Jolie', ' Mateo Arias', 'Edward Norton', ' Max Irons', 'Michael Chiklis', 'Emma Roberts', 'Mark Wahlberg', ' Max Burkholder', ' Ari Graynor', ' Alan Alda', 'Melissa McCarthy', ' Ariel Levy', ' Thomas Brodie-Sangster', ' Zachary Quinto', 'Justin Timberlake', 'Richard Gere', ' Megan Park', ' Jason Sudeikis', ' Sarah Silverman', 'Ewan McGregor', ' Jessica Lange', ' Elizabeth Debicki', ' Kerry Bishe', ' Hunter McCracken', ' Daniel Bruhl', ' Gabriel Byrne', ' Pablo Schreiber', ' Jason Isaacs', 'Kristen Bell', 'Ving Rhames', ' Aiden Longworth', ' Kang-ho Song', ' Cole Konis', 'Callum Keith Rennie', ' John Hawkes', 'Garance Marillier', 'Kim Coates', ' John Malkovich', ' Maggie Q', ' Justice Smith', 'Tom Hiddleston', ' Adele Exarchopoulos', 'Mae Whitman', 'Ana de Armas', ' Lili Taylor', 'Mark Rylance', 'Danny McBride', 'Peter Dinklage', 'Travis Fimmel', 'Julianne Moore', 'Malin Akerman', 'Isabella Rossellini', ' Haley Lu Richardson', ' Woody Harrelson', ' Antonia Ribero', ' Blythe Danner', 'Anders Holm', ' Nicholas Galitzine', ' Olivia Munn', ' Terry Crews', ' Duncan Duff', ' Leonardo DiCaprio', ' Jon Bernthal', ' Rachel Blanchard', \" Jack O'Connell\", ' Shailene Woodley', ' Nicholas Braun', ' Alice Eve', ' Cobie Smulders', ' Ophelia Lovibond', ' Joey Lauren Adams', ' Jason Cope', 'Tobey Maguire', \"Jason O'Mara\", 'Essie Davis', 'Ben Barnes', ' Moe Dunford', ' Kevin Spacey', ' Chris Pratt', ' Kate Hudson', 'Jamal Woolard', 'Felicity Jones', ' Hans Matheson', 'Ben Whishaw', 'Josh Hutcherson', ' Jeff Bridges', ' Martin Kabanza', 'Liam Neeson', ' Olivia Cooke', 'Josh Hartnett', ' Matthew Marsden', 'Oscar Isaac', 'Timothy Spall', ' Richard Dreyfuss', ' Matthew Goode', 'Jon Favreau', ' Robert Patrick', 'Mary-Louise Parker', ' Joel David Moore', 'Anthony Mackie', ' Rosario Dawson', ' Robert Pattinson', 'Kit Harington', 'Jessica Brown Findlay', ' Julia Roberts', ' Alia Shawkat', ' David Morse', ' Luke Bracey', ' Catherine Keener', ' Mira Sorvino', 'Vincent Cassel', 'Jena Malone', ' James Frecheville', ' Julie Andrews', ' Bradley Cooper', ' Eric Winter', 'Alexander Ludwig', 'James Badge Dale', ' Imogen Poots', ' Salim Kechiouche', ' Aidan Turner', ' Milo Ventimiglia', ' Sam Neill', ' Jessica Lucas', ' Lizzy Caplan', ' Lynsey Taylor Mackay', ' Robert Carlyle', 'Dakota Fanning', ' Johnny Simmons', 'Melanie Laurent', ' Melanie Laurent', ' Pierre Coffin', ' Rachel Weisz', ' Albert Finney', ' Dakota Fanning', ' Kevin Hart', ' Kiefer Sutherland', 'Lauren Graham', 'Donald Sutherland', ' Adam Brody', ' Jessica Biel', ' Dominique McElligott', ' Tina Fey', ' Joan Allen', 'Morgan Freeman', ' Lucy Boynton', 'Ben Kingsley', ' Zach Galifianakis', ' Andrew Scott', ' Adam Driver', ' Jim Caviezel', 'Billy Crystal', ' Sam Elliott', ' T.I.', ' Charlotte Gainsbourg', ' J. Todd Smith', ' Leslie Mann', 'Owen Wilson', 'Luke Wilson', ' Zoey Deutch', 'Blake Jenner', 'Ian McKellen', ' Will Yun Lee', ' Gabriel Bateman', ' Portia Doubleday', 'Lesley Manville', 'Christopher Walken', ' William Hurt', ' Megan Fox', ' Peter Stormare', ' Daniel Craig', ' Don Thompson', ' Matthew Morrison', ' Isabelle Nelisse', ' Amanda Seyfried', ' David James', ' Mary Elizabeth Winstead', ' Charlotte Le Bon', ' Patrick Wilson', ' Brady Corbet', ' Alice Braga', 'Judy Greer', ' Cary Joji Fukunaga', ' Allison Janney', 'Andy Samberg', ' Eddie Baroo', ' Adam Devine', ' Lin Shaye', ' Barry Pepper', ' Emma Watson', ' Stanley Tucci', ' Liev Schreiber', 'Eddie Redmayne', 'John Goodman', ' Kirby Bliss Blanton', 'Chloe Grace Moretz', ' Neil Patrick Harris', ' Karin Konoval', 'Mark Strong', ' Jorma Taccone', ' Richard Gere', ' Nicola Peltz', ' Michael McDonald', 'Hugh Jackman', ' Ben Kingsley', ' Nancy Kwan', ' Kirsten Dunst', 'Amy Schumer', ' Thomas M. Wright', ' Sacha Baron Cohen', ' Kati Outinen', ' Daniel Gimenez Cacho', 'Lake Bell', 'Andrew Garfield', ' Rhys Ifans', ' Emayatzy Corinealdi', ' Stellan Skarsgard', 'Radha Mitchell', ' Patricia Clarkson', ' Caitlyn Rund', ' Steve Lantz', 'Danny Sapani', ' Kate Upton', 'Moises Acevedo', 'Ray Winstone', 'Cillian Murphy', ' Emily Browning', 'Adam Driver', ' Joel Edgerton', 'Abbie Cornish', 'Jason Flemyng', 'Michiel Huisman', ' Steve Zahn', 'Anne Hathaway', 'Christian Bale', 'Alicia Vikander', 'Matthias Schoenaerts', 'Quinton Aaron', ' Marton Csokas', ' Anna Faris', 'Tye Sheridan', ' Gabriela Lopez', ' Tyler Perry', ' Emily Meade', 'Sarah Dumont', ' Jennifer Aniston', 'Sean Faris', 'Rose McGowan', ' Jason Clarke', ' Jesse Plemons', ' Connie Nielsen', ' Javier Bardem', ' Kurt Fuller', ' Antje Traue', ' Brandon T. Jackson', ' Lea Seydoux', 'Tony Revolori', ' Lake Bell', ' Tammy Blanchard', 'Hugo Weaving', ' Jake Abel', ' Irrfan Khan', 'Nick Offerman', ' Jonah Hill', 'Logan Marshall-Green', ' Adil Hussain', ' Zachary Levi', 'Melissa Leo', 'Alison Brie', ' Gemma Ward', ' Sigrid Bouaziz', 'Xavier Samuel', ' Nellie', ' Ana de Armas', 'Bruce Willis', ' Jasmine Trinca', ' Mia Stallard', ' Logan Marshall-Green', 'Helena Bonham Carter', ' Don Cheadle', 'Golshifteh Farahani', ' Isabelle Fuhrman', 'Kathy Baker', 'Edward Asner', ' Michael Cera', 'Michael Keaton', ' Ben Foster', ' Karel Hermanek Jr.', ' Imelda Staunton', 'Joseph Gordon-Levitt', 'Analeigh Tipton', \"Vincent D'Onofrio\", 'Karl Urban', ' Mauricio Lopez', ' Damon Wayans Jr.', ' Brian Marc', ' Jonny Weston', 'Jason Statham', ' Jovan Adepo', 'Zac Efron', ' Harold Perrineau', 'Nick Robinson', ' Angelo Josue Lozano Corzo', 'Ellar Coltrane', ' Ansel Elgort', 'Johnny Depp', ' Joel McHale', 'Olivia Colman', 'Elisabeth Shue', ' Orto Ignatiussen', ' Michael Fassbender', ' Diego Boneta', 'Mia Goth', ' Adrianne Palicki', ' Asa Butterfield', ' Tangie Ambrose', ' Kristin Davis', 'Billy Burke', ' Bel Powley', ' Josh Duhamel', 'Scott Lawrence', 'Jake Gyllenhaal', ' Jack Huston', 'Rainn Wilson', ' Ben Walker', 'James Hamrick', 'Vinnie Jones', 'Michael Caine', ' Dane Cook', 'Jean-Claude Van Damme', ' Tyler Hoechlin', ' Kate Mara', 'Brighton Sharbino', ' Rima Te Wiata', ' Penn Badgley', ' Mike Vogel', \"Jack O'Connell\", ' Olivia Thirlby', 'Brendan Fraser', 'Amanda Seyfried', 'Jesse Eisenberg', ' John Goodman', ' Cate Blanchett', 'Nathalie Baye', 'Karen Gillan', 'Famke Janssen', 'Olivia Wilde', ' Taraji P. Henson', ' Angourie Rice', ' Emmanuelle Chriqui', 'Rachel Korine', ' Joaquin Phoenix', ' Steve Tom', ' Shia LaBeouf', ' Nina Dobrev', ' Jason Momoa', ' Andrew Simpson', ' Chloe Grace Moretz', ' Stephen Dorff', 'Amy Adams', ' Bree Turner', ' Jennifer Saunders', 'Quvenzhane Wallis', ' Denis Leary', ' Gwyneth Paltrow', ' Benedict Wong', 'Mila Kunis', 'Paul Rudd', 'Anthony Edwards', ' John Leguizamo', 'Zach Galifianakis', ' Douglas M. Griffin', \"Dylan O'Brien\", ' Ryan Reynolds', \"Sofia Black-D'Elia\", 'Ben Affleck', ' Tony Shalhoub', ' Dave Bautista', ' Jonathan Groff', 'Neel Sethi', ' Brad Pitt', ' Salli Richardson-Whitfield', 'Daniel Day-Lewis', 'Andy Serkis', ' Ang Phula Sherpa', ' Isla Fisher', ' Moises Arias'}\n"
     ]
    }
   ],
   "source": [
    "#(7)\n",
    "ans = []\n",
    "data_copy = data.copy()\n",
    "actor_list = ['Johnny Depp']\n",
    "while True:\n",
    "    if len(actor_list) == 0:\n",
    "        break\n",
    "    else:\n",
    "        pre_list = []\n",
    "        for ACTOR in actor_list:\n",
    "            for i in data_copy.index:\n",
    "                actors = data_copy['Actors'][i]\n",
    "                if ACTOR in actors:\n",
    "                    for actor in actors.split('|'):\n",
    "                        pre_list.append(actor)\n",
    "                        ans.append(actor)\n",
    "                    data_copy = data_copy.drop(i)\n",
    "                else:\n",
    "                    continue\n",
    "        actor_list = set(pre_list)\n",
    "ans = set(ans)\n",
    "print(ans)"
   ]
  }
 ],
 "metadata": {
  "interpreter": {
   "hash": "e912570f8a8020ec6cd9d5b8d1e21aaf9e7b8365b361a378053bc1ee754060a6"
  },
  "kernelspec": {
   "display_name": "Python 3.8.8 64-bit ('base': conda)",
   "name": "python3"
  },
  "language_info": {
   "codemirror_mode": {
    "name": "ipython",
    "version": 3
   },
   "file_extension": ".py",
   "mimetype": "text/x-python",
   "name": "python",
   "nbconvert_exporter": "python",
   "pygments_lexer": "ipython3",
   "version": "3.8.8"
  },
  "orig_nbformat": 4
 },
 "nbformat": 4,
 "nbformat_minor": 2
}
